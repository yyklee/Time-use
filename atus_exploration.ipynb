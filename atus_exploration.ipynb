{
 "cells": [
  {
   "cell_type": "markdown",
   "id": "4f5f691a-85b3-4392-b730-4c80841b2317",
   "metadata": {},
   "source": [
    "1. Import necessary libraries"
   ]
  },
  {
   "cell_type": "code",
   "execution_count": 37,
   "id": "f92ada6e-3f61-408d-84e3-d65e85f7d320",
   "metadata": {
    "tags": []
   },
   "outputs": [],
   "source": [
    "import json\n",
    "import datetime\n",
    "import scipy.stats\n",
    "import pandas as pd\n",
    "import numpy as np\n",
    "import sklearn\n",
    "\n",
    "\n",
    "# plotting\n",
    "import matplotlib\n",
    "from matplotlib import pyplot as plt\n",
    "import seaborn as sns\n",
    "%matplotlib inline\n",
    "import sklearn\n",
    "\n",
    "# other\n",
    "\n",
    "from scipy.stats import ttest_ind, ttest_ind_from_stats"
   ]
  },
  {
   "cell_type": "markdown",
   "id": "37dfb740-e479-446c-a7a2-cff2a79000f9",
   "metadata": {
    "tags": []
   },
   "source": [
    "2. Load Data atussum (Atus summary data 2003-2015)"
   ]
  },
  {
   "cell_type": "code",
   "execution_count": 9,
   "id": "7053dda8-9471-497c-ab95-37f0d68ff6ee",
   "metadata": {
    "tags": []
   },
   "outputs": [
    {
     "data": {
      "text/html": [
       "<div>\n",
       "<style scoped>\n",
       "    .dataframe tbody tr th:only-of-type {\n",
       "        vertical-align: middle;\n",
       "    }\n",
       "\n",
       "    .dataframe tbody tr th {\n",
       "        vertical-align: top;\n",
       "    }\n",
       "\n",
       "    .dataframe thead th {\n",
       "        text-align: right;\n",
       "    }\n",
       "</style>\n",
       "<table border=\"1\" class=\"dataframe\">\n",
       "  <thead>\n",
       "    <tr style=\"text-align: right;\">\n",
       "      <th></th>\n",
       "      <th>gemetsta</th>\n",
       "      <th>peeduca</th>\n",
       "      <th>pehspnon</th>\n",
       "      <th>teage</th>\n",
       "      <th>telfs</th>\n",
       "      <th>temjot</th>\n",
       "      <th>teschenr</th>\n",
       "      <th>teschlvl</th>\n",
       "      <th>tesex</th>\n",
       "      <th>tespempnot</th>\n",
       "      <th>...</th>\n",
       "      <th>t181801</th>\n",
       "      <th>t181899</th>\n",
       "      <th>t189999</th>\n",
       "      <th>t500101</th>\n",
       "      <th>t500103</th>\n",
       "      <th>t500104</th>\n",
       "      <th>t500105</th>\n",
       "      <th>t500106</th>\n",
       "      <th>t500107</th>\n",
       "      <th>t509989</th>\n",
       "    </tr>\n",
       "  </thead>\n",
       "  <tbody>\n",
       "    <tr>\n",
       "      <th>0</th>\n",
       "      <td>1</td>\n",
       "      <td>44</td>\n",
       "      <td>2</td>\n",
       "      <td>60</td>\n",
       "      <td>2</td>\n",
       "      <td>2</td>\n",
       "      <td>-1</td>\n",
       "      <td>-1</td>\n",
       "      <td>1</td>\n",
       "      <td>2</td>\n",
       "      <td>...</td>\n",
       "      <td>0</td>\n",
       "      <td>0</td>\n",
       "      <td>0</td>\n",
       "      <td>0</td>\n",
       "      <td>0</td>\n",
       "      <td>0</td>\n",
       "      <td>0</td>\n",
       "      <td>0</td>\n",
       "      <td>0</td>\n",
       "      <td>0</td>\n",
       "    </tr>\n",
       "    <tr>\n",
       "      <th>1</th>\n",
       "      <td>2</td>\n",
       "      <td>40</td>\n",
       "      <td>2</td>\n",
       "      <td>41</td>\n",
       "      <td>1</td>\n",
       "      <td>2</td>\n",
       "      <td>2</td>\n",
       "      <td>-1</td>\n",
       "      <td>2</td>\n",
       "      <td>1</td>\n",
       "      <td>...</td>\n",
       "      <td>0</td>\n",
       "      <td>0</td>\n",
       "      <td>0</td>\n",
       "      <td>0</td>\n",
       "      <td>0</td>\n",
       "      <td>0</td>\n",
       "      <td>0</td>\n",
       "      <td>0</td>\n",
       "      <td>0</td>\n",
       "      <td>0</td>\n",
       "    </tr>\n",
       "    <tr>\n",
       "      <th>2</th>\n",
       "      <td>1</td>\n",
       "      <td>41</td>\n",
       "      <td>2</td>\n",
       "      <td>26</td>\n",
       "      <td>2</td>\n",
       "      <td>2</td>\n",
       "      <td>2</td>\n",
       "      <td>-1</td>\n",
       "      <td>2</td>\n",
       "      <td>2</td>\n",
       "      <td>...</td>\n",
       "      <td>0</td>\n",
       "      <td>0</td>\n",
       "      <td>0</td>\n",
       "      <td>0</td>\n",
       "      <td>0</td>\n",
       "      <td>0</td>\n",
       "      <td>0</td>\n",
       "      <td>0</td>\n",
       "      <td>0</td>\n",
       "      <td>0</td>\n",
       "    </tr>\n",
       "    <tr>\n",
       "      <th>3</th>\n",
       "      <td>2</td>\n",
       "      <td>39</td>\n",
       "      <td>2</td>\n",
       "      <td>36</td>\n",
       "      <td>4</td>\n",
       "      <td>-1</td>\n",
       "      <td>2</td>\n",
       "      <td>-1</td>\n",
       "      <td>2</td>\n",
       "      <td>1</td>\n",
       "      <td>...</td>\n",
       "      <td>0</td>\n",
       "      <td>0</td>\n",
       "      <td>0</td>\n",
       "      <td>0</td>\n",
       "      <td>0</td>\n",
       "      <td>0</td>\n",
       "      <td>0</td>\n",
       "      <td>0</td>\n",
       "      <td>0</td>\n",
       "      <td>0</td>\n",
       "    </tr>\n",
       "    <tr>\n",
       "      <th>4</th>\n",
       "      <td>2</td>\n",
       "      <td>45</td>\n",
       "      <td>2</td>\n",
       "      <td>51</td>\n",
       "      <td>1</td>\n",
       "      <td>2</td>\n",
       "      <td>-1</td>\n",
       "      <td>-1</td>\n",
       "      <td>1</td>\n",
       "      <td>2</td>\n",
       "      <td>...</td>\n",
       "      <td>0</td>\n",
       "      <td>0</td>\n",
       "      <td>0</td>\n",
       "      <td>0</td>\n",
       "      <td>0</td>\n",
       "      <td>0</td>\n",
       "      <td>0</td>\n",
       "      <td>0</td>\n",
       "      <td>0</td>\n",
       "      <td>0</td>\n",
       "    </tr>\n",
       "  </tbody>\n",
       "</table>\n",
       "<p>5 rows × 358 columns</p>\n",
       "</div>"
      ],
      "text/plain": [
       "   gemetsta  peeduca  pehspnon  teage  telfs  temjot  teschenr  teschlvl  \\\n",
       "0         1       44         2     60      2       2        -1        -1   \n",
       "1         2       40         2     41      1       2         2        -1   \n",
       "2         1       41         2     26      2       2         2        -1   \n",
       "3         2       39         2     36      4      -1         2        -1   \n",
       "4         2       45         2     51      1       2        -1        -1   \n",
       "\n",
       "   tesex  tespempnot  ...  t181801  t181899  t189999  t500101  t500103  \\\n",
       "0      1           2  ...        0        0        0        0        0   \n",
       "1      2           1  ...        0        0        0        0        0   \n",
       "2      2           2  ...        0        0        0        0        0   \n",
       "3      2           1  ...        0        0        0        0        0   \n",
       "4      1           2  ...        0        0        0        0        0   \n",
       "\n",
       "   t500104  t500105  t500106  t500107  t509989  \n",
       "0        0        0        0        0        0  \n",
       "1        0        0        0        0        0  \n",
       "2        0        0        0        0        0  \n",
       "3        0        0        0        0        0  \n",
       "4        0        0        0        0        0  \n",
       "\n",
       "[5 rows x 358 columns]"
      ]
     },
     "execution_count": 9,
     "metadata": {},
     "output_type": "execute_result"
    }
   ],
   "source": [
    "atussum = pd.read_csv(\"C:/SQL2019/atussum.csv\")\n",
    "atussum.head(5)"
   ]
  },
  {
   "cell_type": "markdown",
   "id": "0efc7cae-0fce-4946-aad4-ff1e1c18b923",
   "metadata": {},
   "source": [
    "3. Change t010101 to column name sleep and create sleep.hr (sleep in hour) \n",
    "4. Change teage to column name age"
   ]
  },
  {
   "cell_type": "code",
   "execution_count": 13,
   "id": "25c34062-4b9b-4fea-9a69-d5cc289d8089",
   "metadata": {
    "collapsed": true,
    "jupyter": {
     "outputs_hidden": true
    },
    "tags": []
   },
   "outputs": [
    {
     "data": {
      "text/plain": [
       "0    870\n",
       "1    620\n",
       "2    560\n",
       "3    720\n",
       "4    385\n",
       "Name: sleep, dtype: int64"
      ]
     },
     "execution_count": 13,
     "metadata": {},
     "output_type": "execute_result"
    }
   ],
   "source": [
    "atussum['sleep']= atussum['t010101']\n",
    "atussum['sleep'].head(5)"
   ]
  },
  {
   "cell_type": "code",
   "execution_count": 64,
   "id": "2e8d6b68-969a-4c53-8710-06e49d62e637",
   "metadata": {
    "collapsed": true,
    "jupyter": {
     "outputs_hidden": true
    },
    "tags": []
   },
   "outputs": [
    {
     "data": {
      "text/plain": [
       "0    14.500000\n",
       "1    10.333333\n",
       "2     9.333333\n",
       "3    12.000000\n",
       "4     6.416667\n",
       "Name: sleep.hr, dtype: float64"
      ]
     },
     "execution_count": 64,
     "metadata": {},
     "output_type": "execute_result"
    }
   ],
   "source": [
    "atussum['sleep.hr'] = atussum['t010101']/60\n",
    "atussum['sleep.hr'].head(5)"
   ]
  },
  {
   "cell_type": "code",
   "execution_count": 17,
   "id": "c0fb2eaf-5a7b-485b-a342-0f2e49dd4932",
   "metadata": {
    "tags": []
   },
   "outputs": [
    {
     "data": {
      "text/plain": [
       "Index(['gemetsta', 'peeduca', 'pehspnon', 'teage', 'telfs', 'temjot',\n",
       "       'teschenr', 'teschlvl', 'tesex', 'tespempnot',\n",
       "       ...\n",
       "       't500101', 't500103', 't500104', 't500105', 't500106', 't500107',\n",
       "       't509989', 'sleep', 'sleep.hr', 'age'],\n",
       "      dtype='object', length=361)"
      ]
     },
     "execution_count": 17,
     "metadata": {},
     "output_type": "execute_result"
    }
   ],
   "source": [
    "atussum['age'] = atussum['teage']\n",
    "atussum.columns"
   ]
  },
  {
   "cell_type": "markdown",
   "id": "f3f53159-2f64-4c6f-9900-15bf81f12367",
   "metadata": {},
   "source": [
    "To perform any analyses or plot data, we need to convert steps column into a numeric type. Otherwise we get errors. We don't like errors."
   ]
  },
  {
   "cell_type": "code",
   "execution_count": 18,
   "id": "1e563d94-86e4-4166-acd4-deb65418fda8",
   "metadata": {},
   "outputs": [],
   "source": [
    "atussum['teage'] = pd.to_numeric(atussum['teage'])\n",
    "atussum['sleep'] = pd.to_numeric(atussum['sleep'])\n",
    "atussum['sleep.hr'] = pd.to_numeric(atussum['sleep.hr'])"
   ]
  },
  {
   "cell_type": "code",
   "execution_count": 25,
   "id": "b1e1a718-f4c8-4de9-bf7b-c1fa0df5a31b",
   "metadata": {
    "collapsed": true,
    "jupyter": {
     "outputs_hidden": true
    },
    "tags": []
   },
   "outputs": [
    {
     "data": {
      "image/png": "[encoded data removed]",
      "text/plain": [
       "<Figure size 360x360 with 1 Axes>"
      ]
     },
     "metadata": {
      "needs_background": "light"
     },
     "output_type": "display_data"
    }
   ],
   "source": [
    "sns.displot(atussum['sleep'], color=\"green\")\n",
    "plt.title(\"Sleep minutes distribution\")\n",
    "plt.xlabel(\"Sleep in minutes\")\n",
    "plt.show()"
   ]
  },
  {
   "cell_type": "code",
   "execution_count": 23,
   "id": "4d9faa52-df11-455d-8c29-1e0b7da8e888",
   "metadata": {
    "collapsed": true,
    "jupyter": {
     "outputs_hidden": true
    },
    "tags": []
   },
   "outputs": [
    {
     "data": {
      "image/png": "[encoded data removed]",
      "text/plain": [
       "<Figure size 360x360 with 1 Axes>"
      ]
     },
     "metadata": {
      "needs_background": "light"
     },
     "output_type": "display_data"
    }
   ],
   "source": [
    "sns.displot(atussum['sleep.hr'], color=\"green\")\n",
    "plt.title(\"Sleep hour distribution\")\n",
    "plt.xlabel(\"Sleep in hours\")\n",
    "plt.show()"
   ]
  },
  {
   "cell_type": "code",
   "execution_count": 28,
   "id": "67f15e21-7605-4467-b529-f62cde910954",
   "metadata": {},
   "outputs": [
    {
     "data": {
      "image/png": "[encoded data removed]",
      "text/plain": [
       "<Figure size 360x360 with 1 Axes>"
      ]
     },
     "metadata": {},
     "output_type": "display_data"
    }
   ],
   "source": [
    "sns.set_style(\"ticks\")\n",
    "sns.displot(atussum['age'], color = 'steelblue')\n",
    "plt.title(\"Age Distribution\")\n",
    "plt.xlabel(\"Age\") \n",
    "plt.show()"
   ]
  },
  {
   "cell_type": "code",
   "execution_count": null,
   "id": "b5756aa4-94d7-460d-993f-fa02c3403455",
   "metadata": {},
   "outputs": [],
   "source": [
    "# Question 1: Does the amount of sleep decrease with age? \n",
    "#Linear Regression Model (sleep regressed on age) \n",
    "\n",
    "Clean data."
   ]
  },
  {
   "cell_type": "code",
   "execution_count": 181,
   "id": "dd75dfb5-ee23-48a6-a33a-c15543b0ecf8",
   "metadata": {
    "tags": []
   },
   "outputs": [
    {
     "data": {
      "text/plain": [
       "0"
      ]
     },
     "execution_count": 181,
     "metadata": {},
     "output_type": "execute_result"
    }
   ],
   "source": [
    "atussum['sleep'] = atussum['sleep'][atussum['sleep']>0]\n",
    "atussum['telfs'] = atussum['telfs'][atussum['telfs']>0]\n",
    "atussum['sleep'] =atussum['sleep'].fillna(atussum['sleep'].mean()) \n",
    "atussum['sleep'].isna().sum()"
   ]
  },
  {
   "cell_type": "code",
   "execution_count": 182,
   "id": "beb0634a-8db3-48bb-8bb4-9015ec2bd8fb",
   "metadata": {
    "tags": []
   },
   "outputs": [
    {
     "name": "stdout",
     "output_type": "stream",
     "text": [
      "r_value -0.014812715894412432\n",
      "p_value 9.192399652661285e-10\n",
      "standard deviation 0.0041301746312924475\n"
     ]
    },
    {
     "data": {
      "image/png": "[encoded data removed]",
      "text/plain": [
       "<Figure size 432x288 with 1 Axes>"
      ]
     },
     "metadata": {
      "needs_background": "light"
     },
     "output_type": "display_data"
    },
    {
     "name": "stdout",
     "output_type": "stream",
     "text": [
      "0.00021356440639785923\n"
     ]
    }
   ],
   "source": [
    "from numpy import arange,array,ones \n",
    "from pylab import plot,show\n",
    "from scipy import stats\n",
    "\n",
    "\n",
    "x = atussum['age']\n",
    "y = atussum['sleep']\n",
    "\\\n",
    "slope, intercept, r_value, p_value, std_err = stats.linregress(x,y)\n",
    "\n",
    "print('r_value', r_value)\n",
    "print('p_value', p_value)\n",
    " \n",
    "pd.options.display.float_format = '{:.5f}'.format\n",
    "pd.reset_option('display.float_format')\n",
    "print('standard deviation', std_err)\n",
    "\n",
    "line = slope*x+intercept\n",
    "plot(x,line,'r-',x,y,'o')\n",
    "show()\n",
    "\n",
    "#or \n",
    "\n",
    "modell = ols('sleep~age',data =atussum).fit()\n",
    "modelp = ols('sleep~age*tesex', data = atussum).fit()\n",
    "\n",
    "print(modell.rsquared_adj)\n"
   ]
  },
  {
   "cell_type": "markdown",
   "id": "b43cf47e-686e-4174-b142-3d5ab60813b9",
   "metadata": {},
   "source": [
    "Results show that age is negatively correlated with the amount of sleep (r = -0.05), statistically significant < 0.001. "
   ]
  },
  {
   "cell_type": "code",
   "execution_count": null,
   "id": "034a8e16-0735-4ea8-b328-57fada777e43",
   "metadata": {
    "jupyter": {
     "source_hidden": true
    },
    "tags": []
   },
   "outputs": [],
   "source": [
    "#Question 2-2. Does the relationship above hold when 'labour force state' is related to sleep as well?\n",
    "# Due to multicollinearity, we cannot fit age and lfs in the same model. "
   ]
  },
  {
   "cell_type": "code",
   "execution_count": 138,
   "id": "29606768-5554-4b1b-80f6-ca2ff4e00dd0",
   "metadata": {
    "collapsed": true,
    "jupyter": {
     "outputs_hidden": true,
     "source_hidden": true
    },
    "tags": []
   },
   "outputs": [
    {
     "name": "stdout",
     "output_type": "stream",
     "text": [
      "r_value 0.14385919406285289\n",
      "p_value 0.0\n",
      "standard deviation 0.17298248708371022\n"
     ]
    },
    {
     "data": {
      "image/png": "[encoded data removed]",
      "text/plain": [
       "<Figure size 432x288 with 1 Axes>"
      ]
     },
     "metadata": {
      "needs_background": "light"
     },
     "output_type": "display_data"
    },
    {
     "name": "stdout",
     "output_type": "stream",
     "text": [
      "0.00000000000000000000000000000000000000000000000000000000000000000000000000000000000000011211519098830885467252360541898642462868009551015733911874038345494690967668196023641234814082675306922863408005\n"
     ]
    }
   ],
   "source": [
    "x = atussum['telfs']\n",
    "y = atussum['sleep']\n",
    "\n",
    "slope, intercept, r_value, p_value, std_err = stats.linregress(x,y)\n",
    "\n",
    "print('r_value', r_value)\n",
    "print('p_value', p_value)\n",
    " \n",
    "pd.options.display.float_format = '{:.5f}'.format\n",
    "pd.reset_option('display.float_format')\n",
    "print('standard deviation', std_err)\n",
    "\n",
    "line = slope*x+intercept\n",
    "plot(x,line,'r-',x,y,'o')\n",
    "show()\n",
    "\n",
    "print(format(1.1211519098830885e-88,'.200f'))"
   ]
  },
  {
   "cell_type": "code",
   "execution_count": null,
   "id": "1d8484a2-983a-4e1d-b678-e05e3c68aa9e",
   "metadata": {},
   "outputs": [],
   "source": [
    "#Question 1-2:  Does the amount of sleep decrease with age? fit better in a quadratic regression model? \n",
    "# Checking a curvilinear relationship between age and sleep."
   ]
  },
  {
   "cell_type": "code",
   "execution_count": 164,
   "id": "068b0a89-9dfb-4394-8bed-cb1b1c8d45dc",
   "metadata": {},
   "outputs": [
    {
     "name": "stdout",
     "output_type": "stream",
     "text": [
      "         2\n",
      "0.05558 x - 5.773 x + 656.4\n"
     ]
    },
    {
     "data": {
      "text/plain": [
       "{'r_squared': 0.022003786863605986}"
      ]
     },
     "execution_count": 164,
     "metadata": {},
     "output_type": "execute_result"
    },
    {
     "data": {
      "image/png": "[encoded data removed]",
      "text/plain": [
       "<Figure size 432x288 with 1 Axes>"
      ]
     },
     "metadata": {
      "needs_background": "light"
     },
     "output_type": "display_data"
    }
   ],
   "source": [
    "#polynomial fit with degree = 2\n",
    "\n",
    "modelp = np.poly1d(np.polyfit(atussum['age'],atussum['sleep'],2))\n",
    "\n",
    "#add fitted polynomical line to scatterplot\n",
    "polyline = np.linspace(1,60,50)\n",
    "plt.plot(polyline, modelp(polyline))\n",
    "print(modelp)\n",
    "\n",
    "#define function to calculate r-squared\n",
    "def polyfit(x, y, degree):\n",
    "    results = {}\n",
    "    coeffs = np.polyfit(x, y, degree)\n",
    "    p = np.poly1d(coeffs)\n",
    "    #calculate r-squared\n",
    "    yhat = p(x)\n",
    "    ybar = np.sum(y)/len(y)\n",
    "    ssreg = np.sum((yhat-ybar)**2)\n",
    "    sstot = np.sum((y - ybar)**2)\n",
    "    results['r_squared'] = ssreg / sstot\n",
    "\n",
    "    return results\n",
    "\n",
    "#find r-squared of polynomial model with degree = 3\n",
    "polyfit(atussum['age'], atussum['sleep'], 2)\n"
   ]
  },
  {
   "cell_type": "markdown",
   "id": "b3290f52-cf4c-457c-bec0-df8aff771b15",
   "metadata": {},
   "source": [
    "compare two models: adjusted R squared is higher in modelp. "
   ]
  },
  {
   "cell_type": "code",
   "execution_count": null,
   "id": "1304a468-c7a2-4315-b87c-c24eadee851d",
   "metadata": {},
   "outputs": [],
   "source": [
    "#Question 2: Is salary related to sleep (for employed) "
   ]
  }
 ],
 "metadata": {
  "kernelspec": {
   "display_name": "Python 3 (ipykernel)",
   "language": "python",
   "name": "python3"
  },
  "language_info": {
   "codemirror_mode": {
    "name": "ipython",
    "version": 3
   },
   "file_extension": ".py",
   "mimetype": "text/x-python",
   "name": "python",
   "nbconvert_exporter": "python",
   "pygments_lexer": "ipython3",
   "version": "3.9.7"
  }
 },
 "nbformat": 4,
 "nbformat_minor": 5
}
